{
  "nbformat": 4,
  "nbformat_minor": 0,
  "metadata": {
    "colab": {
      "name": "LS_DS_113_Join_and_Reshape_Data_Assignment.ipynb",
      "provenance": [],
      "collapsed_sections": [],
      "machine_shape": "hm"
    },
    "kernelspec": {
      "display_name": "Python 3",
      "language": "python",
      "name": "python3"
    }
  },
  "cells": [
    {
      "cell_type": "markdown",
      "metadata": {
        "colab_type": "text",
        "id": "pmU5YUal1eTZ"
      },
      "source": [
        "Lambda School Data Science\n",
        "\n",
        "*Unit 1, Sprint 1, Module 3*\n",
        "\n",
        "---\n",
        "\n",
        "# Join and Reshape datasets\n",
        "\n",
        "Objectives\n",
        "- concatenate data with pandas\n",
        "- merge data with pandas\n",
        "-  understand tidy data formatting\n",
        "-  melt and pivot data with pandas\n",
        "\n",
        "Links\n",
        "- [Pandas Cheat Sheet](https://github.com/pandas-dev/pandas/blob/master/doc/cheatsheet/Pandas_Cheat_Sheet.pdf)\n",
        "- [Tidy Data](https://en.wikipedia.org/wiki/Tidy_data)\n",
        "  - Combine Data Sets: Standard Joins\n",
        "  - Tidy Data\n",
        "  - Reshaping Data\n",
        "- Python Data Science Handbook\n",
        "  - [Chapter 3.6](https://jakevdp.github.io/PythonDataScienceHandbook/03.06-concat-and-append.html), Combining Datasets: Concat and Append\n",
        "  - [Chapter 3.7](https://jakevdp.github.io/PythonDataScienceHandbook/03.07-merge-and-join.html), Combining Datasets: Merge and Join\n",
        "  - [Chapter 3.8](https://jakevdp.github.io/PythonDataScienceHandbook/03.08-aggregation-and-grouping.html), Aggregation and Grouping\n",
        "  - [Chapter 3.9](https://jakevdp.github.io/PythonDataScienceHandbook/03.09-pivot-tables.html), Pivot Tables\n",
        "  \n",
        "Reference\n",
        "- Pandas Documentation: [Reshaping and Pivot Tables](https://pandas.pydata.org/pandas-docs/stable/reshaping.html)\n",
        "- Modern Pandas, Part 5: [Tidy Data](https://tomaugspurger.github.io/modern-5-tidy.html)"
      ]
    },
    {
      "cell_type": "code",
      "metadata": {
        "id": "5MsWLLW4Xg_i",
        "colab_type": "code",
        "outputId": "f8b6169c-0e45-4ba8-9bdb-2d602e3a974b",
        "colab": {
          "base_uri": "https://localhost:8080/",
          "height": 204
        }
      },
      "source": [
        "!wget https://s3.amazonaws.com/instacart-datasets/instacart_online_grocery_shopping_2017_05_01.tar.gz"
      ],
      "execution_count": 0,
      "outputs": [
        {
          "output_type": "stream",
          "text": [
            "--2020-01-22 02:04:00--  https://s3.amazonaws.com/instacart-datasets/instacart_online_grocery_shopping_2017_05_01.tar.gz\n",
            "Resolving s3.amazonaws.com (s3.amazonaws.com)... 52.216.8.45\n",
            "Connecting to s3.amazonaws.com (s3.amazonaws.com)|52.216.8.45|:443... connected.\n",
            "HTTP request sent, awaiting response... 200 OK\n",
            "Length: 205548478 (196M) [application/x-gzip]\n",
            "Saving to: ‘instacart_online_grocery_shopping_2017_05_01.tar.gz’\n",
            "\n",
            "instacart_online_gr 100%[===================>] 196.03M  96.1MB/s    in 2.0s    \n",
            "\n",
            "2020-01-22 02:04:08 (96.1 MB/s) - ‘instacart_online_grocery_shopping_2017_05_01.tar.gz’ saved [205548478/205548478]\n",
            "\n"
          ],
          "name": "stdout"
        }
      ]
    },
    {
      "cell_type": "code",
      "metadata": {
        "id": "gfr4_Ya0XkLI",
        "colab_type": "code",
        "outputId": "05566a9b-14f6-416d-c733-99f857b8621c",
        "colab": {
          "base_uri": "https://localhost:8080/",
          "height": 238
        }
      },
      "source": [
        "!tar --gunzip --extract --verbose --file=instacart_online_grocery_shopping_2017_05_01.tar.gz"
      ],
      "execution_count": 0,
      "outputs": [
        {
          "output_type": "stream",
          "text": [
            "instacart_2017_05_01/\n",
            "instacart_2017_05_01/._aisles.csv\n",
            "instacart_2017_05_01/aisles.csv\n",
            "instacart_2017_05_01/._departments.csv\n",
            "instacart_2017_05_01/departments.csv\n",
            "instacart_2017_05_01/._order_products__prior.csv\n",
            "instacart_2017_05_01/order_products__prior.csv\n",
            "instacart_2017_05_01/._order_products__train.csv\n",
            "instacart_2017_05_01/order_products__train.csv\n",
            "instacart_2017_05_01/._orders.csv\n",
            "instacart_2017_05_01/orders.csv\n",
            "instacart_2017_05_01/._products.csv\n",
            "instacart_2017_05_01/products.csv\n"
          ],
          "name": "stdout"
        }
      ]
    },
    {
      "cell_type": "code",
      "metadata": {
        "id": "N4YyGPNdXrT0",
        "colab_type": "code",
        "outputId": "c85f9aa0-0695-4690-c299-93ae92d161ea",
        "colab": {
          "base_uri": "https://localhost:8080/",
          "height": 34
        }
      },
      "source": [
        "%cd instacart_2017_05_01"
      ],
      "execution_count": 0,
      "outputs": [
        {
          "output_type": "stream",
          "text": [
            "/content/instacart_2017_05_01\n"
          ],
          "name": "stdout"
        }
      ]
    },
    {
      "cell_type": "code",
      "metadata": {
        "id": "b26wmLUiXtlM",
        "colab_type": "code",
        "outputId": "63b75d30-ca20-42c7-91cc-827d0127b18c",
        "colab": {
          "base_uri": "https://localhost:8080/",
          "height": 119
        }
      },
      "source": [
        "!ls -lh *.csv"
      ],
      "execution_count": 0,
      "outputs": [
        {
          "output_type": "stream",
          "text": [
            "-rw-r--r-- 1 502 staff 2.6K May  2  2017 aisles.csv\n",
            "-rw-r--r-- 1 502 staff  270 May  2  2017 departments.csv\n",
            "-rw-r--r-- 1 502 staff 551M May  2  2017 order_products__prior.csv\n",
            "-rw-r--r-- 1 502 staff  24M May  2  2017 order_products__train.csv\n",
            "-rw-r--r-- 1 502 staff 104M May  2  2017 orders.csv\n",
            "-rw-r--r-- 1 502 staff 2.1M May  2  2017 products.csv\n"
          ],
          "name": "stdout"
        }
      ]
    },
    {
      "cell_type": "markdown",
      "metadata": {
        "colab_type": "text",
        "id": "kAMtvSQWPUcj"
      },
      "source": [
        "# Assignment\n",
        "\n",
        "## Join Data Practice\n",
        "\n",
        "These are the top 10 most frequently ordered products. How many times was each ordered? \n",
        "\n",
        "1. Banana\n",
        "2. Bag of Organic Bananas\n",
        "3. Organic Strawberries\n",
        "4. Organic Baby Spinach \n",
        "5. Organic Hass Avocado\n",
        "6. Organic Avocado\n",
        "7. Large Lemon \n",
        "8. Strawberries\n",
        "9. Limes \n",
        "10. Organic Whole Milk\n",
        "\n",
        "First, write down which columns you need and which dataframes have them.\n",
        "\n",
        "Next, merge these into a single dataframe.\n",
        "\n",
        "Then, use pandas functions from the previous lesson to get the counts of the top 10 most frequently ordered products."
      ]
    },
    {
      "cell_type": "code",
      "metadata": {
        "id": "vvE0EVHgXMFO",
        "colab_type": "code",
        "colab": {}
      },
      "source": [
        "##### YOUR CODE HERE #####"
      ],
      "execution_count": 0,
      "outputs": []
    },
    {
      "cell_type": "markdown",
      "metadata": {
        "id": "kQaR3S-_FnXM",
        "colab_type": "text"
      },
      "source": [
        "Those where not the top ten frequently bought items. The most frequent items were,\n",
        "\n",
        "Shredded 3 Cheese Italian is the  1 most frequently bought product\n",
        "Warrior Blend Vanilla Dietary Supplement is the  2 most frequently bought product\n",
        "Fat Free Low Sodium Poppyseed Dressing is the  3 most frequently bought product\n",
        "Earth Paste Amazingly Natural Toothpaste Peppermint is the  4 most frequently bought product\n",
        "Fresh Farmed Tilapia Fillet is the  5 most frequently bought product\n",
        "Essential Enzymes 500 Mg is the  6 most frequently bought product\n",
        "Salsa Ranch Yogurt Dressing is the  7 most frequently bought product\n",
        "Chicken Breast Grilled Strips is the  8 most frequently bought product\n",
        "Almond Gold Bar is the  9 most frequently bought product\n",
        "Calimyrna Figs is the  10 most frequently bought product"
      ]
    },
    {
      "cell_type": "markdown",
      "metadata": {
        "id": "JRAnOTQsGCUd",
        "colab_type": "text"
      },
      "source": [
        "The data sets that have the information I need are the orders, prior orders, and product data sets."
      ]
    },
    {
      "cell_type": "code",
      "metadata": {
        "id": "rGc8KlwNGXUL",
        "colab_type": "code",
        "outputId": "35a4c042-869e-45c3-facf-46d4754e11f1",
        "colab": {
          "base_uri": "https://localhost:8080/",
          "height": 323
        }
      },
      "source": [
        "# YOUR CODE HERE\n",
        "# imported required modules\n",
        "import pandas as pd\n",
        "\n",
        "# loaded the csv files\n",
        "print('Starting Loading csv Files. ')\n",
        "aisles = pd.read_csv('aisles.csv')\n",
        "products = pd.read_csv('products.csv')\n",
        "departments = pd.read_csv('departments.csv')\n",
        "orders = pd.read_csv('orders.csv')\n",
        "order_products__prior = pd.read_csv('order_products__prior.csv')\n",
        "print('Files loaded, Starting merging of files.')\n",
        "\n",
        "# Merged all the files by a common column name\n",
        "aisles_and_products = aisles.merge(products, on='aisle_id', how='inner')\n",
        "aisles_and_products = aisles_and_products.merge(departments, on='department_id', how='inner')\n",
        "aisles_and_products = aisles_and_products.merge(order_products__prior, on='product_id', how='inner')\n",
        "complete_data = aisles_and_products.merge(orders, on='order_id', how='inner')\n",
        "print('Merge finished')\n",
        "\n",
        "# got the top ten frequent product id's\n",
        "top_10 = complete_data['product_id'].value_counts().index\n",
        "top_10 = top_10[:10]\n",
        "print(top_10)\n",
        "print('first set is finished')\n",
        "\n",
        "\n",
        "\n",
        "# searched by those product id's to find the correct product name\n",
        "n = 1\n",
        "for i in top_10:\n",
        "    test = products.loc[(i-1)]\n",
        "    print(test[1])\n",
        "    n = n + 1\n",
        "\n",
        "print('Second set is finished')\n"
      ],
      "execution_count": 0,
      "outputs": [
        {
          "output_type": "stream",
          "text": [
            "Starting Loading csv Files. \n",
            "Files loaded, Starting merging of files.\n",
            "Merge finished\n",
            "Int64Index([24852, 13176, 21137, 21903, 47209, 47766, 47626, 16797, 26209,\n",
            "            27845],\n",
            "           dtype='int64')\n",
            "first set is finished\n",
            "Banana\n",
            "Bag of Organic Bananas\n",
            "Organic Strawberries\n",
            "Organic Baby Spinach\n",
            "Organic Hass Avocado\n",
            "Organic Avocado\n",
            "Large Lemon\n",
            "Strawberries\n",
            "Limes\n",
            "Organic Whole Milk\n",
            "Second set is finished\n"
          ],
          "name": "stdout"
        }
      ]
    },
    {
      "cell_type": "code",
      "metadata": {
        "id": "mNngqcHhGgFY",
        "colab_type": "code",
        "outputId": "d83e6999-1db4-4bca-cccb-7046bd96056d",
        "colab": {
          "base_uri": "https://localhost:8080/",
          "height": 151
        }
      },
      "source": [
        "import pandas as pd\n",
        "\n",
        "orders = pd.read_csv('orders.csv')\n",
        "orders.dtypes\n"
      ],
      "execution_count": 0,
      "outputs": [
        {
          "output_type": "execute_result",
          "data": {
            "text/plain": [
              "order_id                    int64\n",
              "user_id                     int64\n",
              "eval_set                   object\n",
              "order_number                int64\n",
              "order_dow                   int64\n",
              "order_hour_of_day           int64\n",
              "days_since_prior_order    float64\n",
              "dtype: object"
            ]
          },
          "metadata": {
            "tags": []
          },
          "execution_count": 7
        }
      ]
    },
    {
      "cell_type": "code",
      "metadata": {
        "id": "RGsH4YspHKH3",
        "colab_type": "code",
        "outputId": "1b98206f-2dfa-41e0-b51c-959d4fbf5267",
        "colab": {
          "base_uri": "https://localhost:8080/",
          "height": 67
        }
      },
      "source": [
        "departments = pd.read_csv('departments.csv')\n",
        "departments.dtypes"
      ],
      "execution_count": 0,
      "outputs": [
        {
          "output_type": "execute_result",
          "data": {
            "text/plain": [
              "department_id     int64\n",
              "department       object\n",
              "dtype: object"
            ]
          },
          "metadata": {
            "tags": []
          },
          "execution_count": 8
        }
      ]
    },
    {
      "cell_type": "code",
      "metadata": {
        "id": "Zf7Fez8nHaVV",
        "colab_type": "code",
        "outputId": "146bc523-5ced-4913-b49a-283ee923f870",
        "colab": {
          "base_uri": "https://localhost:8080/",
          "height": 67
        }
      },
      "source": [
        "aisles = pd.read_csv('aisles.csv')\n",
        "aisles.dtypes"
      ],
      "execution_count": 0,
      "outputs": [
        {
          "output_type": "execute_result",
          "data": {
            "text/plain": [
              "aisle_id     int64\n",
              "aisle       object\n",
              "dtype: object"
            ]
          },
          "metadata": {
            "tags": []
          },
          "execution_count": 9
        }
      ]
    },
    {
      "cell_type": "code",
      "metadata": {
        "id": "LlGDNpJvW7vB",
        "colab_type": "code",
        "outputId": "4f9f9535-8200-44aa-e3b3-7b4e628217e9",
        "colab": {
          "base_uri": "https://localhost:8080/",
          "height": 195
        }
      },
      "source": [
        "order_products__prior = pd.read_csv('order_products__prior.csv')\n",
        "order_products__prior.head()"
      ],
      "execution_count": 0,
      "outputs": [
        {
          "output_type": "execute_result",
          "data": {
            "text/html": [
              "<div>\n",
              "<style scoped>\n",
              "    .dataframe tbody tr th:only-of-type {\n",
              "        vertical-align: middle;\n",
              "    }\n",
              "\n",
              "    .dataframe tbody tr th {\n",
              "        vertical-align: top;\n",
              "    }\n",
              "\n",
              "    .dataframe thead th {\n",
              "        text-align: right;\n",
              "    }\n",
              "</style>\n",
              "<table border=\"1\" class=\"dataframe\">\n",
              "  <thead>\n",
              "    <tr style=\"text-align: right;\">\n",
              "      <th></th>\n",
              "      <th>order_id</th>\n",
              "      <th>product_id</th>\n",
              "      <th>add_to_cart_order</th>\n",
              "      <th>reordered</th>\n",
              "    </tr>\n",
              "  </thead>\n",
              "  <tbody>\n",
              "    <tr>\n",
              "      <th>0</th>\n",
              "      <td>2</td>\n",
              "      <td>33120</td>\n",
              "      <td>1</td>\n",
              "      <td>1</td>\n",
              "    </tr>\n",
              "    <tr>\n",
              "      <th>1</th>\n",
              "      <td>2</td>\n",
              "      <td>28985</td>\n",
              "      <td>2</td>\n",
              "      <td>1</td>\n",
              "    </tr>\n",
              "    <tr>\n",
              "      <th>2</th>\n",
              "      <td>2</td>\n",
              "      <td>9327</td>\n",
              "      <td>3</td>\n",
              "      <td>0</td>\n",
              "    </tr>\n",
              "    <tr>\n",
              "      <th>3</th>\n",
              "      <td>2</td>\n",
              "      <td>45918</td>\n",
              "      <td>4</td>\n",
              "      <td>1</td>\n",
              "    </tr>\n",
              "    <tr>\n",
              "      <th>4</th>\n",
              "      <td>2</td>\n",
              "      <td>30035</td>\n",
              "      <td>5</td>\n",
              "      <td>0</td>\n",
              "    </tr>\n",
              "  </tbody>\n",
              "</table>\n",
              "</div>"
            ],
            "text/plain": [
              "   order_id  product_id  add_to_cart_order  reordered\n",
              "0         2       33120                  1          1\n",
              "1         2       28985                  2          1\n",
              "2         2        9327                  3          0\n",
              "3         2       45918                  4          1\n",
              "4         2       30035                  5          0"
            ]
          },
          "metadata": {
            "tags": []
          },
          "execution_count": 6
        }
      ]
    },
    {
      "cell_type": "code",
      "metadata": {
        "id": "Gq_gu2hnHRSg",
        "colab_type": "code",
        "outputId": "4e32e7f5-43b4-4a90-923e-057426f78aaa",
        "colab": {
          "base_uri": "https://localhost:8080/",
          "height": 101
        }
      },
      "source": [
        "products = pd.read_csv('products.csv')\n",
        "products.dtypes"
      ],
      "execution_count": 0,
      "outputs": [
        {
          "output_type": "execute_result",
          "data": {
            "text/plain": [
              "product_id        int64\n",
              "product_name     object\n",
              "aisle_id          int64\n",
              "department_id     int64\n",
              "dtype: object"
            ]
          },
          "metadata": {
            "tags": []
          },
          "execution_count": 11
        }
      ]
    },
    {
      "cell_type": "code",
      "metadata": {
        "id": "YdfzpSh6H_Ih",
        "colab_type": "code",
        "outputId": "a6930b42-e8aa-4ac1-abb2-466c44e90f36",
        "colab": {
          "base_uri": "https://localhost:8080/",
          "height": 118
        }
      },
      "source": [
        "aisles_and_products = aisles.merge(products, on='aisle_id', how='inner')\n",
        "print(aisles_and_products.dtypes)"
      ],
      "execution_count": 0,
      "outputs": [
        {
          "output_type": "stream",
          "text": [
            "aisle_id          int64\n",
            "aisle            object\n",
            "product_id        int64\n",
            "product_name     object\n",
            "department_id     int64\n",
            "dtype: object\n"
          ],
          "name": "stdout"
        }
      ]
    },
    {
      "cell_type": "code",
      "metadata": {
        "id": "5fG8FKKnMTVH",
        "colab_type": "code",
        "outputId": "6c206f4e-68b3-464c-bf2a-416b6d9f2c2d",
        "colab": {
          "base_uri": "https://localhost:8080/",
          "height": 134
        }
      },
      "source": [
        "aisles_and_products = aisles_and_products.merge(departments, on='department_id', how='inner')\n",
        "print(aisles_and_products.dtypes)"
      ],
      "execution_count": 0,
      "outputs": [
        {
          "output_type": "stream",
          "text": [
            "aisle_id          int64\n",
            "aisle            object\n",
            "product_id        int64\n",
            "product_name     object\n",
            "department_id     int64\n",
            "department       object\n",
            "dtype: object\n"
          ],
          "name": "stdout"
        }
      ]
    },
    {
      "cell_type": "code",
      "metadata": {
        "id": "-oboKzEfOS3a",
        "colab_type": "code",
        "outputId": "82e1dc37-39dc-42e9-ca1c-675d94ff28b2",
        "colab": {
          "base_uri": "https://localhost:8080/",
          "height": 185
        }
      },
      "source": [
        "aisles_and_products = aisles_and_products.merge(order_products__prior, on='product_id', how='inner')\n",
        "print(aisles_and_products.dtypes)"
      ],
      "execution_count": 0,
      "outputs": [
        {
          "output_type": "stream",
          "text": [
            "aisle_id              int64\n",
            "aisle                object\n",
            "product_id            int64\n",
            "product_name         object\n",
            "department_id         int64\n",
            "department           object\n",
            "order_id              int64\n",
            "add_to_cart_order     int64\n",
            "reordered             int64\n",
            "dtype: object\n"
          ],
          "name": "stdout"
        }
      ]
    },
    {
      "cell_type": "code",
      "metadata": {
        "id": "AG_5MyarOXfm",
        "colab_type": "code",
        "outputId": "d303f7e8-2acc-4c35-cef7-4e5bda2bef71",
        "colab": {
          "base_uri": "https://localhost:8080/",
          "height": 286
        }
      },
      "source": [
        "complete_data = aisles_and_products.merge(orders, on='order_id', how='inner')\n",
        "print(complete_data.dtypes)"
      ],
      "execution_count": 0,
      "outputs": [
        {
          "output_type": "stream",
          "text": [
            "aisle_id                    int64\n",
            "aisle                      object\n",
            "product_id                  int64\n",
            "product_name               object\n",
            "department_id               int64\n",
            "department                 object\n",
            "order_id                    int64\n",
            "add_to_cart_order           int64\n",
            "reordered                   int64\n",
            "user_id                     int64\n",
            "eval_set                   object\n",
            "order_number                int64\n",
            "order_dow                   int64\n",
            "order_hour_of_day           int64\n",
            "days_since_prior_order    float64\n",
            "dtype: object\n"
          ],
          "name": "stdout"
        }
      ]
    },
    {
      "cell_type": "code",
      "metadata": {
        "id": "NptPPyKjOmUu",
        "colab_type": "code",
        "outputId": "ee64291b-79a0-46dd-cf3e-95d8483b6fe5",
        "colab": {
          "base_uri": "https://localhost:8080/",
          "height": 272
        }
      },
      "source": [
        "import pandas as pd\n",
        "import numpy as np\n",
        "pd.set_option('display.max_rows', 100)\n",
        "print('Starting Loading csv Files. ')\n",
        "aisles = pd.read_csv('aisles.csv')\n",
        "products = pd.read_csv('products.csv')\n",
        "departments = pd.read_csv('departments.csv')\n",
        "orders = pd.read_csv('orders.csv')\n",
        "order_products__prior = pd.read_csv('order_products__prior.csv')\n",
        "print('Files loaded, Starting merging of files.')\n",
        "aisles_and_products = aisles.merge(products, on='aisle_id', how='inner')\n",
        "aisles_and_products = aisles_and_products.merge(departments, on='department_id', how='inner')\n",
        "aisles_and_products = aisles_and_products.merge(order_products__prior, on='product_id', how='inner')\n",
        "complete_data = aisles_and_products.merge(orders, on='order_id', how='inner')\n",
        "print('Merge finished')\n",
        "\n",
        "top_10 = complete_data['product_id'].value_counts().index\n",
        "top_10 = top_10[:10]\n",
        "print('first set is finished')\n",
        "\n",
        "n = 1\n",
        "for i in top_10:\n",
        "    test = products.loc[i]\n",
        "    print(test[1], 'is the ', n, 'most frequently bought product')\n",
        "    n = n + 1\n",
        "\n",
        "print('Second set is finished')\n"
      ],
      "execution_count": 0,
      "outputs": [
        {
          "output_type": "stream",
          "text": [
            "Starting Loading csv Files. \n",
            "Files loaded, Starting merging of files.\n",
            "Merge finished\n",
            "first set is finished\n",
            "Shredded 3 Cheese Italian is the  1 most frequently bought product\n",
            "Warrior Blend Vanilla Dietary Supplement is the  2 most frequently bought product\n",
            "Fat Free Low Sodium Poppyseed Dressing is the  3 most frequently bought product\n",
            "Earth Paste Amazingly Natural Toothpaste Peppermint is the  4 most frequently bought product\n",
            "Fresh Farmed Tilapia Fillet is the  5 most frequently bought product\n",
            "Essential Enzymes 500 Mg is the  6 most frequently bought product\n",
            "Salsa Ranch Yogurt Dressing is the  7 most frequently bought product\n",
            "Chicken Breast Grilled Strips is the  8 most frequently bought product\n",
            "Almond Gold Bar is the  9 most frequently bought product\n",
            "Calimyrna Figs is the  10 most frequently bought product\n",
            "Second set is finished\n"
          ],
          "name": "stdout"
        }
      ]
    },
    {
      "cell_type": "markdown",
      "metadata": {
        "id": "RsiWi4DuXPLP",
        "colab_type": "text"
      },
      "source": [
        "## Reshape Data Section\n",
        "\n",
        "- Replicate the lesson code. Remember, if you haven't followed along typing out what we did during lecture, do that now to get more repetition with the syntax.\n",
        "- Take table 2 (the transpose of table 1) and practice changing it into Tidy format and back again. You should not use the transpose operation anywhere in this code:\n",
        " - Table 2 --> Tidy\n",
        " - Tidy --> Table 2\n",
        "- Load seaborn's `flights` dataset by running the cell below. Then create a pivot table showing the number of passengers by month and year. Use year for the index and month for the columns. You've done it right if you get 112 passengers for January 1949 and 432 passengers for December 1960."
      ]
    },
    {
      "cell_type": "code",
      "metadata": {
        "id": "4qRj4tyxm8t0",
        "colab_type": "code",
        "outputId": "3e8fda08-92fc-4fab-9375-4c298b8fefd2",
        "colab": {
          "base_uri": "https://localhost:8080/",
          "height": 134
        }
      },
      "source": [
        "import pandas as pd\n",
        "import numpy as np\n",
        "table1 = pd.DataFrame(\n",
        "    [[np.nan, 2],\n",
        "     [16,    11], \n",
        "     [3,      1]],\n",
        "    index=['John Smith', 'Jane Doe', 'Mary Johnson'],\n",
        "    columns=['treatmenta', 'treatmentb'])\n",
        "\n",
        "table2 = table1.T\n",
        "table1 = table1.reset_index()\n",
        "tidy1 = pd.melt(table1, id_vars='index', value_vars=['treatmenta', 'treatmentb'])\n",
        "print(tidy1)\n"
      ],
      "execution_count": 0,
      "outputs": [
        {
          "output_type": "stream",
          "text": [
            "          index    variable  value\n",
            "0    John Smith  treatmenta    NaN\n",
            "1      Jane Doe  treatmenta   16.0\n",
            "2  Mary Johnson  treatmenta    3.0\n",
            "3    John Smith  treatmentb    2.0\n",
            "4      Jane Doe  treatmentb   11.0\n",
            "5  Mary Johnson  treatmentb    1.0\n"
          ],
          "name": "stdout"
        }
      ]
    },
    {
      "cell_type": "code",
      "metadata": {
        "id": "PX7xD5KxVS_d",
        "colab_type": "code",
        "outputId": "ebb175c8-6267-415d-9814-f7094d5df5e1",
        "colab": {
          "base_uri": "https://localhost:8080/",
          "height": 134
        }
      },
      "source": [
        "import pandas as pd\n",
        "import numpy as np\n",
        "table1 = pd.DataFrame(\n",
        "    [[np.nan, 2],\n",
        "     [16,    11], \n",
        "     [3,      1]],\n",
        "    index=['John Smith', 'Jane Doe', 'Mary Johnson'],\n",
        "    columns=['treatmenta', 'treatmentb'])\n",
        "\n",
        "table2 = table1.T\n",
        "table2 = table2.reset_index()\n",
        "tidy1 = pd.melt(table2, id_vars='index', value_vars=['John Smith', 'Jane Doe', 'Mary Johnson'])\n",
        "print(tidy1)\n"
      ],
      "execution_count": 0,
      "outputs": [
        {
          "output_type": "stream",
          "text": [
            "        index      variable  value\n",
            "0  treatmenta    John Smith    NaN\n",
            "1  treatmentb    John Smith    2.0\n",
            "2  treatmenta      Jane Doe   16.0\n",
            "3  treatmentb      Jane Doe   11.0\n",
            "4  treatmenta  Mary Johnson    3.0\n",
            "5  treatmentb  Mary Johnson    1.0\n"
          ],
          "name": "stdout"
        }
      ]
    },
    {
      "cell_type": "code",
      "metadata": {
        "id": "dhSi-wyyVYdN",
        "colab_type": "code",
        "outputId": "c9fa8d1c-5255-474b-90b4-8bc4b22c7dcb",
        "colab": {
          "base_uri": "https://localhost:8080/",
          "height": 84
        }
      },
      "source": [
        "wide1 = tidy1.pivot_table(index='index', columns='variable', values='value')\n",
        "print(wide1)\n"
      ],
      "execution_count": 0,
      "outputs": [
        {
          "output_type": "stream",
          "text": [
            "variable    Jane Doe  John Smith  Mary Johnson\n",
            "index                                         \n",
            "treatmenta      16.0         NaN           3.0\n",
            "treatmentb      11.0         2.0           1.0\n"
          ],
          "name": "stdout"
        }
      ]
    },
    {
      "cell_type": "code",
      "metadata": {
        "id": "fgxulJQq0uLw",
        "colab_type": "code",
        "outputId": "88a28447-cb70-4cf7-bfdd-f555687b3787",
        "colab": {
          "base_uri": "https://localhost:8080/",
          "height": 255
        }
      },
      "source": [
        "import pandas as pd\n",
        "import seaborn as sns\n",
        "flights = sns.load_dataset('flights')\n",
        "flights.head()\n",
        "tidy1 = pd.melt(flights, id_vars=['year'], value_name='month', value_vars=['month'])\n",
        "tidy2 = pd.melt(flights, id_vars='month', value_vars=['passengers'])\n",
        "\n",
        "\n",
        "tidy3 = (tidy1.merge(flights, how='inner', on=['month', 'year']))\n",
        "tidy3 = tidy3.drop(columns='variable')\n",
        "print(tidy3.head(13))\n"
      ],
      "execution_count": 0,
      "outputs": [
        {
          "output_type": "stream",
          "text": [
            "    year      month  passengers\n",
            "0   1949    January         112\n",
            "1   1949   February         118\n",
            "2   1949      March         132\n",
            "3   1949      April         129\n",
            "4   1949        May         121\n",
            "5   1949       June         135\n",
            "6   1949       July         148\n",
            "7   1949     August         148\n",
            "8   1949  September         136\n",
            "9   1949    October         119\n",
            "10  1949   November         104\n",
            "11  1949   December         118\n",
            "12  1950    January         115\n"
          ],
          "name": "stdout"
        }
      ]
    },
    {
      "cell_type": "code",
      "metadata": {
        "id": "1qKc88WI0up-",
        "colab_type": "code",
        "colab": {}
      },
      "source": [
        "# Flights Pivot Table"
      ],
      "execution_count": 0,
      "outputs": []
    },
    {
      "cell_type": "markdown",
      "metadata": {
        "id": "mnOuqL9K0dqh",
        "colab_type": "text"
      },
      "source": [
        "## Join Data Stretch Challenge\n",
        "\n",
        "The [Instacart blog post](https://tech.instacart.com/3-million-instacart-orders-open-sourced-d40d29ead6f2) has a visualization of \"**Popular products** purchased earliest in the day (green) and latest in the day (red).\" \n",
        "\n",
        "The post says,\n",
        "\n",
        "> \"We can also see the time of day that users purchase specific products.\n",
        "\n",
        "> Healthier snacks and staples tend to be purchased earlier in the day, whereas ice cream (especially Half Baked and The Tonight Dough) are far more popular when customers are ordering in the evening.\n",
        "\n",
        "> **In fact, of the top 25 latest ordered products, the first 24 are ice cream! The last one, of course, is a frozen pizza.**\"\n",
        "\n",
        "Your challenge is to reproduce the list of the top 25 latest ordered popular products.\n",
        "\n",
        "We'll define \"popular products\" as products with more than 2,900 orders.\n",
        "\n"
      ]
    },
    {
      "cell_type": "code",
      "metadata": {
        "id": "B-QNMrVkYap4",
        "colab_type": "code",
        "colab": {}
      },
      "source": [
        "##### YOUR CODE HERE #####"
      ],
      "execution_count": 0,
      "outputs": []
    },
    {
      "cell_type": "markdown",
      "metadata": {
        "id": "Ij8S60q0YXxo",
        "colab_type": "text"
      },
      "source": [
        "## Reshape Data Stretch Challenge\n",
        "\n",
        "_Try whatever sounds most interesting to you!_\n",
        "\n",
        "- Replicate more of Instacart's visualization showing \"Hour of Day Ordered\" vs \"Percent of Orders by Product\"\n",
        "- Replicate parts of the other visualization from [Instacart's blog post](https://tech.instacart.com/3-million-instacart-orders-open-sourced-d40d29ead6f2), showing \"Number of Purchases\" vs \"Percent Reorder Purchases\"\n",
        "- Get the most recent order for each user in Instacart's dataset. This is a useful baseline when [predicting a user's next order](https://www.kaggle.com/c/instacart-market-basket-analysis)\n",
        "- Replicate parts of the blog post linked at the top of this notebook: [Modern Pandas, Part 5: Tidy Data](https://tomaugspurger.github.io/modern-5-tidy.html)"
      ]
    },
    {
      "cell_type": "code",
      "metadata": {
        "id": "_d6IA2R0YXFY",
        "colab_type": "code",
        "colab": {}
      },
      "source": [
        "##### YOUR CODE HERE #####"
      ],
      "execution_count": 0,
      "outputs": []
    }
  ]
}